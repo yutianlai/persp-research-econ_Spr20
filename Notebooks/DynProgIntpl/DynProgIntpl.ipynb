{
 "cells": [
  {
   "cell_type": "markdown",
   "metadata": {},
   "source": [
    "# Dynamic Programming with Interpolation\n",
    "### by [Richard W. Evans](https://sites.google.com/site/rickecon/), May 2020\n",
    "The code in this Jupyter notebook was written using Python 3.7."
   ]
  },
  {
   "cell_type": "markdown",
   "metadata": {},
   "source": [
    "## 1. Introduction\n",
    "\n",
    "### 1.1. Problem setup\n",
    "Last term, we worked through an [introduction to dynamic programming](https://github.com/UC-MACSS/persp-model-econ_W20/blob/master/Notes/DynProg_Evans.pdf) in which we studied a stylized cake eating problem in order to introduce the topic and give a general structure of the problem. We will also use the [interpolation notebook](https://github.com/UC-MACSS/persp-model-econ_W20/blob/master/Notebooks/Interp/Interp.ipynb) that we learned last term.\n",
    "\n",
    "A general form of the Bellman equation of a recursive model is the following,\n",
    "\\begin{equation}\\label{DynProg_EqBellmanGen}\n",
    "  V(x,y) = \\max_{y'}\\:\\sigma(x,y,y') + \\beta E\\left[V(x',y')\\right]\n",
    "\\end{equation}\n",
    "where $x$ is the exogenous state (set of exogenous variables), $y$ is the endogenous state (set of choice variables), $y'$ is the control or choice variable, $\\sigma(\\cdot)$ is the period objective function, and $V(x,y)$ is the value function. The value function tells you the value to the agent of showing up in a given period with state $(x,y)$, and the value function accounts for all expected future benefits in addition to the current period benefits.\n",
    "\n",
    "In our specific cake eating problem, we built up to the infinite horizon cake eater in Section 4. The size of the cake today is $W$, the utility of consumption today $u(c)$ is some continuous, monotonic, and concave function of $c$, and the law of motion for the size of the cake is $W'=W - c$, where $W'$ is the size of the cake tomorrow. With these definitions, we characterized the infinite horizon deterministic cake eating problem in Section 4 with the following Bellman equation.\n",
    "\\begin{equation}\\label{DynProg_EqBellman}\n",
    "  V\\left(W\\right) = \\max_{W'\\in[0,W]}\\:\\: u\\left(W - W'\\right) + \\beta V\\left(W'\\right)\n",
    "\\end{equation}"
   ]
  },
  {
   "cell_type": "markdown",
   "metadata": {},
   "source": [
    "### 1.2. Value function iteration solution method\n",
    "In Section 4, we learned the conditions under which the iterative approach of value function iteration converges to the unique functional solution. We defined an operator $C(\\cdot)$ (a function that executes specific operations) on a guess for the solution to the value function $V_t(W)$.\n",
    "\\begin{equation}\\label{DynProg_EqContraction}\n",
    "  C\\Bigl(V_t\\left(W\\right)\\Bigr) \\equiv \\max_{W'\\in[0,W]}\\: u\\left(W-W'\\right) + \\beta V_t\\left(W'\\right)\n",
    "\\end{equation}\n",
    "And we showed that under certain conditions, repeating this operation iteratively on a guess for the value function creates output that converges to the functional solution of the Bellman equation."
   ]
  },
  {
   "cell_type": "markdown",
   "metadata": {},
   "source": [
    "### 1.3. Our discretized, simplified approach\n",
    "In the [dynamic programming chapter](https://github.com/UC-MACSS/persp-model-econ_W19/blob/master/Notes/DynProg_Evans.pdf) from last term, we used a simplified approach in which we only allowed a discrete number of cake sizes for the solution.\n",
    "\\begin{equation}\n",
    "  \\underset{\\begin{bmatrix}W_1 \\\\ W_2 \\\\ \\vdots \\\\ W_N\\end{bmatrix}}{W,W'},\\qquad \\underset{\\begin{bmatrix}V_{t+1}(W_1) \\\\ V_{t+1}(W_2) \\\\ \\vdots \\\\ V_{t+1}(W_N)\\end{bmatrix} =}{V_{t+1}(W)} = \\max_{W'\\in[0,W]}\\underset{\\begin{bmatrix}-10^{10} & -10^{10} & ... & -10^{10} \\\\ u(W_2 - W_1) & -10^{10} & ... & -10^{10} \\\\ \\vdots & \\vdots & \\ddots & \\vdots \\\\ u(W_N-W_1) & u(W_N - W_2) & ... & -10^{10}\\end{bmatrix}}{u(W-W')} + \\underset{+\\beta\\begin{bmatrix}-10^{10} & -10^{10} & ... & -10^{10} \\\\ V_t(W_1) & -10^{10} & ... & -10^{10} \\\\ \\vdots & \\vdots & \\ddots & \\vdots \\\\ V_t(W_1) & V_t(W_2) & ... & -10^{10}\\end{bmatrix}}{\\beta V_t(W')}\n",
    "\\end{equation}"
   ]
  },
  {
   "cell_type": "markdown",
   "metadata": {},
   "source": [
    "## 2. Interpolation instead of discrete support for control\n",
    "In this solution method with interpolation, we still have to discretize our guess for the state space $W$. But we will allow for our control variable $W'$ to be a continuum between 0 and $W$. Let's go back to the contraction version of our problem.\n",
    "\\begin{equation}\n",
    "  V_{t+1}(W) = C\\Bigl(V_t\\left(W\\right)\\Bigr) \\equiv \\max_{W'\\in[0,W]}\\: u\\left(W-W'\\right) + \\beta V_t\\left(W'\\right)\n",
    "\\end{equation}\n",
    "\n",
    "The steps to solving each iteration are similar.\n",
    "1. Choose a discrete grid for cake size $W = [W_1, W_2, ... W_N]^T$, where $W_1 > 0$ and $W_N\\leq W_{max}$.\n",
    "2. Guess an initial value function over this grid $V_t(W)$."
   ]
  },
  {
   "cell_type": "code",
   "execution_count": null,
   "metadata": {},
   "outputs": [],
   "source": [
    "import numpy as np\n",
    "import matplotlib.pyplot as plt\n",
    "%matplotlib inline\n",
    "\n",
    "W_vec = np.linspace(0.1, 3, 30)\n",
    "V_t = np.log(W_vec)\n",
    "\n",
    "plt.scatter(W_vec, V_t)"
   ]
  },
  {
   "cell_type": "markdown",
   "metadata": {},
   "source": [
    "### 2.1. Solving the Bellman for one initial point\n",
    "Now imagine trying to solve the equation above for one particular cakesize.\n",
    "\\begin{equation}\n",
    "  V_{t+1}(W_{10}) = \\max_{W'\\in[0,W_{10}]}\\: u\\left(W_{10}-W'\\right) + \\beta V_t\\left(W'\\right)\n",
    "\\end{equation}\n",
    "What do we know? We know the cake size today $W_{10}$. And we know our guess for the entire value function $V_t(W)$, where our guess is for the value function at all of the discrete points in $W$. So the objects in the equation above are a scalar, a continuous utility function $u(W_{10}-W')$ of one variable $W'$, and a value function $V_t\\left(W'\\right)$ of one variable $W'$--a function that is currently discrete, but that we want to be continuous. Here is where we use interpolation. We interpolate a continuous function of $W'$ from the discrete points of our guess $V_t(W')$. This allows us to solve for the $W'$ that exactly solves for the equation above for the current state $W_{10}$.\n",
    "\n",
    "Let the utility of consumption be CRRA with coefficient of relative risk aversion $\\gamma=2.2$. Let our discretization of the possible cake sizes $W$ be 30 equally spaced cake sizes between 0.1 and 10. And let our initial guess for the value of cake size today be $V_t(W)=\\ln(W)$."
   ]
  },
  {
   "cell_type": "code",
   "execution_count": null,
   "metadata": {},
   "outputs": [],
   "source": [
    "import numpy as np\n",
    "import scipy.optimize as opt\n",
    "import scipy.interpolate as intpl\n",
    "import matplotlib.pyplot as plt\n",
    "\n",
    "# Set up the parameters\n",
    "beta = 0.9\n",
    "gamma = 2.2\n",
    "W_min = 0.1\n",
    "W_max = 10.0\n",
    "W_size = 30\n",
    "W_vec = np.linspace(W_min, W_max, W_size)\n",
    "V_t = np.log(W_vec)\n",
    "\n",
    "def util_CRRA(W, W_pr, gamma):\n",
    "    # Define CRRA utility function\n",
    "    c = W - W_pr\n",
    "    util = (c ** (1 - gamma) - 1) / (1 - gamma)\n",
    "    \n",
    "    return util\n",
    "\n",
    "def neg_V(W_pr, *args):\n",
    "    W_init, util, V_t_interp, gamma, beta = args\n",
    "    Vtp1 = util(W_init, W_pr, gamma) + beta * V_t_interp(W_pr)\n",
    "    neg_Vtp1 = -Vtp1\n",
    "    \n",
    "    return neg_Vtp1"
   ]
  },
  {
   "cell_type": "code",
   "execution_count": null,
   "metadata": {},
   "outputs": [],
   "source": [
    "# Do the interpolation outside the minimization because it\n",
    "# doesn't change for different W' cake sizes\n",
    "V_t_interp = intpl.interp1d(W_vec, V_t, kind='cubic',\n",
    "                            fill_value='extrapolate')"
   ]
  },
  {
   "cell_type": "markdown",
   "metadata": {},
   "source": [
    "Look at what the interpolation function does to our discretized guess."
   ]
  },
  {
   "cell_type": "code",
   "execution_count": null,
   "metadata": {},
   "outputs": [],
   "source": [
    "W_vec_lots = np.linspace(0.5* W_min, 1.5 * W_max, 1000)\n",
    "plt.plot(W_vec_lots, V_t_interp(W_vec_lots), label='interpolated func.')\n",
    "plt.scatter(W_vec, V_t, color='red', label='discrete values')\n",
    "plt.title('Interpolated function for discrete $V_t(W)$')\n",
    "plt.xlabel('Cake size $W$')\n",
    "plt.ylabel('Value function $V_t(W)$')\n",
    "plt.legend(loc='center right')"
   ]
  },
  {
   "cell_type": "code",
   "execution_count": null,
   "metadata": {},
   "outputs": [],
   "source": [
    "# Solve for optimal W_pr given W_init and a guess for the value function\n",
    "W_init = W_vec[10]\n",
    "\n",
    "V_args = (W_init, util_CRRA, V_t_interp, gamma, beta)\n",
    "results_one = opt.minimize_scalar(neg_V, bounds=(1e-10, W_init - 1e-10),\n",
    "                                  args=V_args, method='bounded')\n",
    "print(results_one)"
   ]
  },
  {
   "cell_type": "markdown",
   "metadata": {},
   "source": [
    "The optimal cake size gives us one point of our policy function $W' = \\psi(W_{10})$. Note that the optimal $W'$ is not in the discretized support of $W$."
   ]
  },
  {
   "cell_type": "code",
   "execution_count": null,
   "metadata": {},
   "outputs": [],
   "source": [
    "print('W_init=', W_init, ', W_pr=', results_one.x)\n",
    "print(W_vec[4:8])"
   ]
  },
  {
   "cell_type": "markdown",
   "metadata": {},
   "source": [
    "Now we can calculate the value of coming into the period with cake size $W_{10}$. It is simply the negative of the function value above."
   ]
  },
  {
   "cell_type": "code",
   "execution_count": null,
   "metadata": {},
   "outputs": [],
   "source": [
    "V_tp1_10 = -results_one.fun\n",
    "print('V_tp1_10=', V_tp1_10)"
   ]
  },
  {
   "cell_type": "markdown",
   "metadata": {},
   "source": [
    "How does this compare to our initial guess for the value of coming in to the period with cake size $V_t(W_{10})$?"
   ]
  },
  {
   "cell_type": "code",
   "execution_count": null,
   "metadata": {},
   "outputs": [],
   "source": [
    "print('V_t_10 guess=', V_t[10], ', and V_tp1_10=', V_tp1_10)"
   ]
  },
  {
   "cell_type": "markdown",
   "metadata": {},
   "source": [
    "### 2.2. Solving the Bellman for all points in the support\n",
    "The next step is obviously to solve the operator for all points in the discretized support of cake size $W$."
   ]
  },
  {
   "cell_type": "code",
   "execution_count": null,
   "metadata": {},
   "outputs": [],
   "source": [
    "%%time\n",
    "V_tp1_vec = np.zeros(W_size)\n",
    "psi_vec = np.zeros(W_size)\n",
    "\n",
    "for W_ind in range(W_size):\n",
    "    W_init = W_vec[W_ind]\n",
    "    V_args = (W_init, util_CRRA, V_t_interp, gamma, beta)\n",
    "    results_all = opt.minimize_scalar(neg_V, bounds=(1e-10, W_init - 1e-10), args=V_args, method='bounded')\n",
    "    V_tp1_vec[W_ind] = -results_all.fun\n",
    "    psi_vec[W_ind] = results_all.x"
   ]
  },
  {
   "cell_type": "code",
   "execution_count": null,
   "metadata": {},
   "outputs": [],
   "source": [
    "# Plot the new and initial value functions\n",
    "plt.plot(W_vec, V_tp1_vec, label='New value function')\n",
    "plt.plot(W_vec, V_t, label='Initial guess value function')\n",
    "plt.title('New vs. initial value function')\n",
    "plt.xlabel('Cake size $W$')\n",
    "plt.ylabel('Value function $V(W)$')\n",
    "plt.legend(loc='center right')"
   ]
  },
  {
   "cell_type": "code",
   "execution_count": null,
   "metadata": {},
   "outputs": [],
   "source": [
    "# Plot the resulting policy function\n",
    "plt.plot(W_vec, psi_vec, label='Policy function $W^{pr}=\\psi(W)$')\n",
    "plt.plot(W_vec, W_vec, color='black', linewidth=1, linestyle='--',\n",
    "         label='45-degree line')\n",
    "plt.title('Cake size tomorrow policy function $\\psi(W)$')\n",
    "plt.xlabel('Cake size $W$')\n",
    "plt.ylabel('Policy function $W^{pr}=\\psi(W)$')\n",
    "plt.legend()"
   ]
  },
  {
   "cell_type": "code",
   "execution_count": null,
   "metadata": {},
   "outputs": [],
   "source": [
    "V_t = V_tp1_vec.copy()\n",
    "V_t_interp = intpl.interp1d(W_vec, V_t, kind='cubic',\n",
    "                            fill_value='extrapolate')\n",
    "\n",
    "V_tp1_vec = np.zeros(W_size)\n",
    "psi_vec = np.zeros(W_size)\n",
    "\n",
    "for W_ind in range(W_size):\n",
    "    W_init = W_vec[W_ind]\n",
    "    V_args = (W_init, util_CRRA, V_t_interp, gamma, beta)\n",
    "    results_all = opt.minimize_scalar(neg_V, bounds=(1e-10, W_init - 1e-10), args=V_args, method='bounded')\n",
    "    V_tp1_vec[W_ind] = -results_all.fun\n",
    "    psi_vec[W_ind] = results_all.x"
   ]
  },
  {
   "cell_type": "code",
   "execution_count": null,
   "metadata": {},
   "outputs": [],
   "source": [
    "# Plot the new and initial value functions\n",
    "plt.plot(W_vec, V_tp1_vec, label='New value function')\n",
    "plt.plot(W_vec, V_t, label='Initial guess value function')\n",
    "plt.title('New vs. initial value function')\n",
    "plt.xlabel('Cake size $W$')\n",
    "plt.ylabel('Value function $V(W)$')\n",
    "plt.legend(loc='center right')"
   ]
  },
  {
   "cell_type": "markdown",
   "metadata": {},
   "source": [
    "### 2.3. Do value function iteration with interpolation\n",
    "Now we just need to update our guess and repeat until convergence."
   ]
  },
  {
   "cell_type": "code",
   "execution_count": null,
   "metadata": {},
   "outputs": [],
   "source": [
    "from time import sleep\n",
    "V_init = np.log(W_vec)\n",
    "V_new = V_init.copy()\n",
    "\n",
    "VF_iter = 0\n",
    "VF_dist = 10\n",
    "VF_maxiter = 200\n",
    "VF_mindist = 1e-8\n",
    "\n",
    "while (VF_iter < VF_maxiter) and (VF_dist > VF_mindist):\n",
    "    # sleep(0.3)\n",
    "    VF_iter += 1\n",
    "    V_init = V_new.copy()\n",
    "    V_new = np.zeros(W_size)\n",
    "    psi_vec = np.zeros(W_size)\n",
    "    \n",
    "    V_init_interp = intpl.interp1d(W_vec, V_init, kind='cubic',\n",
    "                                   fill_value='extrapolate')\n",
    "\n",
    "    for W_ind in range(W_size):\n",
    "        W_init = W_vec[W_ind]\n",
    "        V_args = (W_init, util_CRRA, V_init_interp, gamma, beta)\n",
    "        results_all = opt.minimize_scalar(neg_V, bounds=(1e-10, W_init - 1e-10),\n",
    "                                          args=V_args, method='bounded')\n",
    "        V_new[W_ind] = -results_all.fun\n",
    "        psi_vec[W_ind] = results_all.x\n",
    "    \n",
    "    VF_dist = ((V_init - V_new) ** 2).sum()\n",
    "    print('VF_iter=', VF_iter, ', VF_dist=', VF_dist)"
   ]
  },
  {
   "cell_type": "code",
   "execution_count": null,
   "metadata": {},
   "outputs": [],
   "source": [
    "# Plot the resulting policy function\n",
    "plt.plot(W_vec, psi_vec, label='Policy function $W^{pr}=\\psi(W)$')\n",
    "plt.plot(W_vec, W_vec, color='black', linewidth=1, linestyle='--',\n",
    "         label='45-degree line')\n",
    "plt.title('Cake size tomorrow policy function $\\psi(W)$')\n",
    "plt.xlabel('Cake size $W$')\n",
    "plt.ylabel('Policy function $W^{pr}=\\psi(W)$')\n",
    "plt.legend()"
   ]
  },
  {
   "cell_type": "code",
   "execution_count": null,
   "metadata": {},
   "outputs": [],
   "source": [
    "# Plot the equilibrium value function\n",
    "plt.plot(W_vec, V_new)\n",
    "plt.title('Equilibrium value function $V(W)$')\n",
    "plt.xlabel('Cake size $W$')\n",
    "plt.ylabel('Value function $V(W)$')"
   ]
  },
  {
   "cell_type": "markdown",
   "metadata": {},
   "source": [
    "## 3. Solving problem with stochastic utility\n",
    "In this section, I will give you the intuition and outline of how to solve the cake eating problem with i.i.d. stochastic utility shocks from Section 5 of the [dynamic programming introduction](https://github.com/UC-MACSS/persp-model-econ_W20/blob/master/Notes/DynProg_Evans.pdf) and the probelm with persistent stochastic utility shocks from Section 6 of the [dynamic programming introduction](https://github.com/UC-MACSS/persp-model-econ_W20/blob/master/Notes/DynProg_Evans.pdf). You will solve these as your problem set."
   ]
  },
  {
   "cell_type": "markdown",
   "metadata": {},
   "source": [
    "### 3.1. Solving with i.i.d. stochastic utility"
   ]
  },
  {
   "cell_type": "code",
   "execution_count": null,
   "metadata": {},
   "outputs": [],
   "source": [
    "eps_vec = np.array([-1.40, -0.55, 0.0, 0.55, 1.4])\n",
    "eps_prob = np.array([0.1, 0.2, 0.4, 0.2, 0.1])\n",
    "eps_size = eps_vec.shape[0]"
   ]
  },
  {
   "cell_type": "code",
   "execution_count": null,
   "metadata": {},
   "outputs": [],
   "source": [
    "def neg_V_iid(W_pr, *args):\n",
    "    W, eps, util, Exp_V_t_interp, gamma, beta = args\n",
    "    Vtp1 = np.exp(eps) * util(W, W_pr, gamma) + beta * Exp_V_t_interp(W_pr)\n",
    "    neg_Vtp1 = -Vtp1\n",
    "    \n",
    "    return neg_Vtp1"
   ]
  },
  {
   "cell_type": "code",
   "execution_count": null,
   "metadata": {},
   "outputs": [],
   "source": [
    "V_init = np.zeros((W_size, eps_size))\n",
    "V_new = V_init.copy()\n",
    "\n",
    "VF_iter = 0\n",
    "VF_dist = 10\n",
    "VF_maxiter = 200\n",
    "VF_mindist = 1e-8\n",
    "\n",
    "while (VF_iter < VF_maxiter) and (VF_dist > VF_mindist):\n",
    "    VF_iter += 1\n",
    "    V_init = V_new.copy()\n",
    "    V_new = np.zeros((W_size, eps_size))\n",
    "    psi_mat = np.zeros((W_size, eps_size))\n",
    "    \n",
    "    # Integrate out eps_pr from V_init\n",
    "    Exp_V = V_init @ eps_prob.reshape((eps_size, 1))\n",
    "    \n",
    "    # Interpolate expected value function\n",
    "    Exp_V_interp = intpl.interp1d(W_vec, Exp_V.flatten(), kind='cubic',\n",
    "                                   fill_value='extrapolate')\n",
    "\n",
    "    for eps_ind in range(eps_size):\n",
    "        for W_ind in range(W_size):\n",
    "            W = W_vec[W_ind]\n",
    "            eps = eps_vec[eps_ind]\n",
    "            V_args = (W, eps, util_CRRA, Exp_V_interp, gamma, beta)\n",
    "            results1 = opt.minimize_scalar(neg_V_iid, bounds=(1e-10, W - 1e-10),\n",
    "                                           args=V_args, method='bounded')\n",
    "            V_new[W_ind, eps_ind] = -results1.fun\n",
    "            psi_mat[W_ind, eps_ind] = results1.x\n",
    "    \n",
    "    VF_dist = ((V_init - V_new) ** 2).sum()\n",
    "    print('VF_iter=', VF_iter, ', VF_dist=', VF_dist)\n",
    "    \n",
    "V_1 = V_new.copy()\n",
    "psi_1 = psi_mat.copy()"
   ]
  },
  {
   "cell_type": "code",
   "execution_count": null,
   "metadata": {},
   "outputs": [],
   "source": [
    "# Plot the resulting policy function\n",
    "plt.plot(W_vec, psi_1[:, 0], label='$\\epsilon_1$')\n",
    "plt.plot(W_vec, psi_1[:, 1], label='$\\epsilon_2$')\n",
    "plt.plot(W_vec, psi_1[:, 2], label='$\\epsilon_3$')\n",
    "plt.plot(W_vec, psi_1[:, 3], label='$\\epsilon_4$')\n",
    "plt.plot(W_vec, psi_1[:, 4], label='$\\epsilon_5$')\n",
    "plt.plot(W_vec, W_vec, color='black', linewidth=1, linestyle='--',\n",
    "         label='45-degree line')\n",
    "plt.title('Cake size tomorrow policy function' +\n",
    "          '$W^{pr}=\\psi(W,\\epsilon)$')\n",
    "plt.xlabel('Cake size $W$')\n",
    "plt.ylabel('Policy function $W^{pr}=\\psi(W,\\epsilon)$')\n",
    "plt.legend()"
   ]
  },
  {
   "cell_type": "code",
   "execution_count": null,
   "metadata": {},
   "outputs": [],
   "source": [
    "# Plot the resulting value function\n",
    "plt.plot(W_vec, V_1[:, 0], label='$\\epsilon_1$')\n",
    "plt.plot(W_vec, V_1[:, 1], label='$\\epsilon_2$')\n",
    "plt.plot(W_vec, V_1[:, 2], label='$\\epsilon_3$')\n",
    "plt.plot(W_vec, V_1[:, 3], label='$\\epsilon_4$')\n",
    "plt.plot(W_vec, V_1[:, 4], label='$\\epsilon_5$')\n",
    "plt.title('Value function $V(W,\\epsilon)$')\n",
    "plt.xlabel('Cake size $W$')\n",
    "plt.ylabel('Value function $V(W,\\epsilon)$')\n",
    "plt.legend()"
   ]
  },
  {
   "cell_type": "markdown",
   "metadata": {},
   "source": [
    "### 3.2. Solving with AR(1) perstent shocks"
   ]
  },
  {
   "cell_type": "code",
   "execution_count": null,
   "metadata": {},
   "outputs": [],
   "source": [
    "trans_mat = np.array([[0.40, 0.28, 0.18, 0.10, 0.04],\n",
    "                      [0.20, 0.40, 0.20, 0.13, 0.07],\n",
    "                      [0.10, 0.20, 0.40, 0.20, 0.10],\n",
    "                      [0.07, 0.13, 0.20, 0.40, 0.20],\n",
    "                      [0.04, 0.10, 0.18, 0.28, 0.40]])"
   ]
  },
  {
   "cell_type": "code",
   "execution_count": null,
   "metadata": {},
   "outputs": [],
   "source": [
    "V_init = np.zeros((W_size, eps_size))\n",
    "V_new = V_init.copy()\n",
    "\n",
    "VF_iter = 0\n",
    "VF_dist = 10\n",
    "VF_maxiter = 200\n",
    "VF_mindist = 1e-8\n",
    "\n",
    "while (VF_iter < VF_maxiter) and (VF_dist > VF_mindist):\n",
    "    VF_iter += 1\n",
    "    V_init = V_new.copy()\n",
    "    V_new = np.zeros((W_size, eps_size))\n",
    "    psi_mat = np.zeros((W_size, eps_size))\n",
    "    \n",
    "    \n",
    "\n",
    "    for eps_ind in range(eps_size):\n",
    "        # Calculate expected value, integrate out epsilon prime\n",
    "        trans_mat_ind = trans_mat[eps_ind, :]\n",
    "        Exp_V = V_init @ trans_mat_ind.reshape((eps_size, 1))\n",
    "        \n",
    "        # Interpolate expected value function\n",
    "        Exp_V_interp = intpl.interp1d(W_vec, Exp_V.flatten(), kind='cubic',\n",
    "                                      fill_value='extrapolate')\n",
    "        for W_ind in range(W_size):\n",
    "            W = W_vec[W_ind]\n",
    "            eps = eps_vec[eps_ind]\n",
    "            V_args = (W, eps, util_CRRA, Exp_V_interp, gamma, beta)\n",
    "            results1 = opt.minimize_scalar(neg_V_iid, bounds=(1e-10, W - 1e-10),\n",
    "                                           args=V_args, method='bounded')\n",
    "            V_new[W_ind, eps_ind] = -results1.fun\n",
    "            psi_mat[W_ind, eps_ind] = results1.x\n",
    "    \n",
    "    VF_dist = ((V_init - V_new) ** 2).sum()\n",
    "    print('VF_iter=', VF_iter, ', VF_dist=', VF_dist)\n",
    "    \n",
    "V_2 = V_new.copy()\n",
    "psi_2 = psi_mat.copy()"
   ]
  },
  {
   "cell_type": "code",
   "execution_count": null,
   "metadata": {},
   "outputs": [],
   "source": [
    "# Plot the resulting policy function\n",
    "plt.plot(W_vec, psi_2[:, 0], label='$\\epsilon_1$')\n",
    "plt.plot(W_vec, psi_2[:, 1], label='$\\epsilon_2$')\n",
    "plt.plot(W_vec, psi_2[:, 2], label='$\\epsilon_3$')\n",
    "plt.plot(W_vec, psi_2[:, 3], label='$\\epsilon_4$')\n",
    "plt.plot(W_vec, psi_2[:, 4], label='$\\epsilon_5$')\n",
    "plt.plot(W_vec, W_vec, color='black', linewidth=1, linestyle='--',\n",
    "         label='45-degree line')\n",
    "plt.title('Cake size tomorrow policy function' +\n",
    "          '$W^{pr}=\\psi(W,\\epsilon)$')\n",
    "plt.xlabel('Cake size $W$')\n",
    "plt.ylabel('Policy function $W^{pr}=\\psi(W,\\epsilon)$')\n",
    "plt.legend()"
   ]
  },
  {
   "cell_type": "code",
   "execution_count": null,
   "metadata": {},
   "outputs": [],
   "source": [
    "# Plot the resulting value function\n",
    "plt.plot(W_vec, V_2[:, 0], label='$\\epsilon_1$')\n",
    "plt.plot(W_vec, V_2[:, 1], label='$\\epsilon_2$')\n",
    "plt.plot(W_vec, V_2[:, 2], label='$\\epsilon_3$')\n",
    "plt.plot(W_vec, V_2[:, 3], label='$\\epsilon_4$')\n",
    "plt.plot(W_vec, V_2[:, 4], label='$\\epsilon_5$')\n",
    "plt.title('Value function $V(W,\\epsilon)$')\n",
    "plt.xlabel('Cake size $W$')\n",
    "plt.ylabel('Value function $V(W,\\epsilon)$')\n",
    "plt.legend()"
   ]
  }
 ],
 "metadata": {
  "anaconda-cloud": {},
  "kernelspec": {
   "display_name": "Python 3",
   "language": "python",
   "name": "python3"
  },
  "language_info": {
   "codemirror_mode": {
    "name": "ipython",
    "version": 3
   },
   "file_extension": ".py",
   "mimetype": "text/x-python",
   "name": "python",
   "nbconvert_exporter": "python",
   "pygments_lexer": "ipython3",
   "version": "3.7.4"
  }
 },
 "nbformat": 4,
 "nbformat_minor": 1
}
